{
 "cells": [
  {
   "cell_type": "markdown",
   "metadata": {
    "collapsed": false
   },
   "source": [
    "# Data mining"
   ]
  },
  {
   "cell_type": "markdown",
   "metadata": {
    "collapsed": true
   },
   "source": [
    "Using date data types:\n",
    "The only field from date type used was `last_online`"
   ]
  },
  {
   "cell_type": "markdown",
   "metadata": {},
   "source": [
    "Mail type and category was converted to dummy format because these attributes don't have any hierarcquel relation. So I converted each type to a new column called."
   ]
  },
  {
   "cell_type": "markdown",
   "metadata": {},
   "source": [
    "Mail_id and user_id attributes was used as to potencialize the representitive of the user and the mail. This info basically was used to segregate the users and the mail.\n",
    "I used 10 closed bins, as range."
   ]
  },
  {
   "cell_type": "markdown",
   "metadata": {},
   "source": [
    "hacker_confirmation attribute was mapped to represet 0 for False and 1 for True"
   ]
  },
  {
   "cell_type": "markdown",
   "metadata": {},
   "source": [
    "# Algorithm"
   ]
  },
  {
   "cell_type": "markdown",
   "metadata": {},
   "source": [
    "Decision Tree"
   ]
  },
  {
   "cell_type": "code",
   "execution_count": null,
   "metadata": {
    "collapsed": true
   },
   "outputs": [],
   "source": []
  }
 ],
 "metadata": {
  "kernelspec": {
   "display_name": "Python 2",
   "language": "python",
   "name": "python2"
  },
  "language_info": {
   "codemirror_mode": {
    "name": "ipython",
    "version": 2
   },
   "file_extension": ".py",
   "mimetype": "text/x-python",
   "name": "python",
   "nbconvert_exporter": "python",
   "pygments_lexer": "ipython2",
   "version": "2.7.11"
  }
 },
 "nbformat": 4,
 "nbformat_minor": 0
}
